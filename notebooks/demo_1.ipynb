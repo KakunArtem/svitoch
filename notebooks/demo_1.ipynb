{
 "cells": [
  {
   "cell_type": "markdown",
   "source": [
    "### Release notes:\n",
    "1. Added JSON schema for \"Course content\" response from GPT\n",
    "2. Added Chain for \"Topic content\" generation\n",
    "3. Updated prompts\n",
    "4. Adjusted endpoints"
   ],
   "metadata": {
    "collapsed": false
   },
   "id": "fef8c8be9b3f3b4a"
  },
  {
   "cell_type": "code",
   "execution_count": null,
   "outputs": [],
   "source": [
    "import requests\n",
    "import json"
   ],
   "metadata": {
    "collapsed": false
   },
   "id": "76ee9c187e4959e"
  },
  {
   "cell_type": "code",
   "execution_count": null,
   "outputs": [],
   "source": [
    "url = \"http://localhost:8080/v1/advance_course\"\n",
    "\n",
    "payload = json.dumps({\n",
    "    \"text\": \"Java basics\"\n",
    "})\n",
    "headers = {\n",
    "    'Content-Type': 'application/json'\n",
    "}\n",
    "\n",
    "response = requests.request(\"POST\", url, headers=headers, data=payload)\n",
    "response.body = json.loads(response.text)"
   ],
   "metadata": {
    "collapsed": false
   },
   "id": "a04ab2d8f2b24639"
  },
  {
   "cell_type": "code",
   "execution_count": 41,
   "outputs": [
    {
     "name": "stdout",
     "output_type": "stream",
     "text": [
      "Topic: Java basics\n",
      "LLM Version: gpt_4\n"
     ]
    }
   ],
   "source": [
    "print(f\"Topic: {response.body['response']['query']}\")\n",
    "print(f\"LLM Version: {response.body['response']['llm_version']}\")"
   ],
   "metadata": {
    "collapsed": false,
    "ExecuteTime": {
     "end_time": "2023-11-12T18:46:09.635256Z",
     "start_time": "2023-11-12T18:46:09.633559Z"
    }
   },
   "id": "4d501485d6fe98a"
  },
  {
   "cell_type": "code",
   "execution_count": 42,
   "outputs": [
    {
     "name": "stdout",
     "output_type": "stream",
     "text": [
      "=================================================================================================================================================\n",
      "Course overview:\n",
      "This self-study course is designed to introduce you to the basics of Java programming. It will guide you through the fundamental concepts, syntax, and features of the Java language.\n",
      "================================================================================================================================================= \n"
     ]
    }
   ],
   "source": [
    "print(\"=================================================================================================================================================\")\n",
    "print(f\"Course overview:\\n{response.body['response']['course_content']['overview']}\")\n",
    "print(\"================================================================================================================================================= \\n\")"
   ],
   "metadata": {
    "collapsed": false,
    "ExecuteTime": {
     "end_time": "2023-11-12T18:46:10.576283Z",
     "start_time": "2023-11-12T18:46:10.571929Z"
    }
   },
   "id": "cb66e86bd58d50be"
  },
  {
   "cell_type": "code",
   "execution_count": 43,
   "outputs": [
    {
     "name": "stdout",
     "output_type": "stream",
     "text": [
      "Course topics: [\n",
      "  {\n",
      "    \"title\": \"Introduction to Java\",\n",
      "    \"steps\": [\n",
      "      \"Understand the history and features of Java\",\n",
      "      \"Install Java Development Kit (JDK) and setup the environment\",\n",
      "      \"Learn about Java Virtual Machine (JVM), Java Runtime Environment (JRE), and Java Development Kit (JDK)\",\n",
      "      \"Write your first Java program: 'Hello, World!'\",\n",
      "      \"Compile and run a Java program using the command line\"\n",
      "    ]\n",
      "  },\n",
      "  {\n",
      "    \"title\": \"Java Syntax and Basic Concepts\",\n",
      "    \"steps\": [\n",
      "      \"Learn about Java case sensitivity, identifiers, and keywords\",\n",
      "      \"Understand Java basic syntax: classes, methods, and packages\",\n",
      "      \"Explore data types and variables in Java\",\n",
      "      \"Practice using operators and expressions\",\n",
      "      \"Get familiar with control flow statements: if-else, switch, loops (for, while, do-while)\"\n",
      "    ]\n",
      "  },\n",
      "  {\n",
      "    \"title\": \"Object-Oriented Programming (OOP) Basics\",\n",
      "    \"steps\": [\n",
      "      \"Understand the principles of Object-Oriented Programming\",\n",
      "      \"Learn about classes and objects in Java\",\n",
      "      \"Explore the concepts of methods and constructors\",\n",
      "      \"Understand the use of 'this' keyword\",\n",
      "      \"Learn about the four pillars of OOP: Encapsulation, Abstraction, Inheritance, and Polymorphism\"\n",
      "    ]\n",
      "  },\n",
      "  {\n",
      "    \"title\": \"Java Data Structures\",\n",
      "    \"steps\": [\n",
      "      \"Understand and use arrays in Java\",\n",
      "      \"Learn about the Collections framework\",\n",
      "      \"Explore List, Set, and Map interfaces and their implementations\",\n",
      "      \"Practice using common data structures like ArrayList, HashSet, and HashMap\",\n",
      "      \"Understand the importance of generics in type safety\"\n",
      "    ]\n",
      "  },\n",
      "  {\n",
      "    \"title\": \"Exception Handling and I/O\",\n",
      "    \"steps\": [\n",
      "      \"Learn about Java's exception hierarchy\",\n",
      "      \"Understand try-catch blocks and exception handling\",\n",
      "      \"Practice writing code that handles multiple exceptions\",\n",
      "      \"Get familiar with Java's Input/Output (I/O) API\",\n",
      "      \"Read from and write to files using Java I/O streams\"\n",
      "    ]\n",
      "  },\n",
      "  {\n",
      "    \"title\": \"Java Development Best Practices\",\n",
      "    \"steps\": [\n",
      "      \"Understand the importance of code conventions and readability\",\n",
      "      \"Learn about Java documentation and comments\",\n",
      "      \"Explore debugging techniques and tools\",\n",
      "      \"Get familiar with unit testing in Java using JUnit\",\n",
      "      \"Practice writing clean and maintainable code\"\n",
      "    ]\n",
      "  }\n",
      "]\n"
     ]
    }
   ],
   "source": [
    "print(f\"Course topics: {json.dumps(response.body['response']['course_content']['topics'], indent=2)}\")"
   ],
   "metadata": {
    "collapsed": false,
    "ExecuteTime": {
     "end_time": "2023-11-12T18:46:16.265219Z",
     "start_time": "2023-11-12T18:46:16.260646Z"
    }
   },
   "id": "412f01ef57a4a5de"
  },
  {
   "cell_type": "code",
   "execution_count": null,
   "outputs": [],
   "source": [
    "print(f\"Topics content: {response.body['response']['topics_content']['key3']}\")"
   ],
   "metadata": {
    "collapsed": false
   },
   "id": "5611a122a0ec579d"
  },
  {
   "cell_type": "markdown",
   "source": [
    "Topics content: # Object-Oriented Programming (OOP) Basics\n",
    "\n",
    "Object-Oriented Programming (OOP) is a programming paradigm based on the concept of \"objects\", which can contain data and code: data in the form of fields (often known as attributes or properties), and code, in the form of procedures (often known as methods).\n",
    "\n",
    "## Understand the principles of Object-Oriented Programming\n",
    "\n",
    "OOP is built around several key principles that make it different from procedural programming:\n",
    "\n",
    "1. **Encapsulation**: This principle states that all data (attributes) and code (methods) are bundled together into units called objects. Encapsulation helps to protect the integrity of the data and the functions that are designed to manipulate it.\n",
    "\n",
    "2. **Abstraction**: Abstraction means creating simple models that represent complexity. It hides the complex reality while exposing only the necessary parts. It is like a car's steering wheel: you do not need to know how the engine works to drive a car.\n",
    "\n",
    "3. **Inheritance**: This principle allows a new class to inherit properties and behavior (methods) from an existing class. It helps in code reusability and can model real-world relationships.\n",
    "\n",
    "4. **Polymorphism**: Polymorphism allows objects to be treated as instances of their parent class rather than their actual class. This can be seen in the ability to override methods or in the ability to use interface methods to act in different ways depending on the underlying object.\n",
    "\n",
    "## Learn about classes and objects in Java\n",
    "\n",
    "In Java, a class is a blueprint for creating objects. A class defines a datatype by bundling data and methods that work on the data into a single unit.\n",
    "\n",
    "```java\n",
    "public class Car {\n",
    "    // Attributes (fields)\n",
    "    private String color;\n",
    "    private int maxSpeed;\n",
    "\n",
    "    // Constructor\n",
    "    public Car(String color, int maxSpeed) {\n",
    "        this.color = color;\n",
    "        this.maxSpeed = maxSpeed;\n",
    "    }\n",
    "\n",
    "    // Method\n",
    "    public void displaySpecifications() {\n",
    "        System.out.println(\"Color: \" + color + \", Max Speed: \" + maxSpeed);\n",
    "    }\n",
    "}\n",
    "```\n",
    "\n",
    "An object is an instance of a class. When a class is defined, no memory is allocated until an object is created.\n",
    "\n",
    "```java\n",
    "public class Main {\n",
    "    public static void main(String[] args) {\n",
    "        // Creating an object of Car\n",
    "        Car myCar = new Car(\"Red\", 150);\n",
    "        myCar.displaySpecifications();\n",
    "    }\n",
    "}\n",
    "```\n",
    "\n",
    "## Explore the concepts of methods and constructors\n",
    "\n",
    "**Methods** are like functions that are defined inside a class and are used to perform certain actions.\n",
    "\n",
    "```java\n",
    "public void accelerate(int increment) {\n",
    "    maxSpeed += increment;\n",
    "}\n",
    "```\n",
    "\n",
    "**Constructors** are special methods used to initialize objects. The constructor is called when an object of a class is created. It can be used to set initial values for object attributes.\n",
    "\n",
    "```java\n",
    "public Car(String color, int maxSpeed) {\n",
    "    this.color = color;\n",
    "    this.maxSpeed = maxSpeed;\n",
    "}\n",
    "```\n",
    "\n",
    "## Understand the use of 'this' keyword\n",
    "\n",
    "The `this` keyword is used to refer to the current object in a method or constructor.\n",
    "\n",
    "```java\n",
    "public void setColor(String color) {\n",
    "    this.color = color; // 'this.color' refers to the field while 'color' refers to the parameter\n",
    "}\n",
    "```\n",
    "\n",
    "## Learn about the four pillars of OOP: Encapsulation, Abstraction, Inheritance, and Polymorphism\n",
    "\n",
    "Here is a comparison table of the four pillars of OOP:\n",
    "\n",
    "| Pillar         | Description                                                                                   | Example in Java                                                                                   |\n",
    "|----------------|-----------------------------------------------------------------------------------------------|---------------------------------------------------------------------------------------------------|\n",
    "| Encapsulation  | Bundling data with the methods that operate on the data. It restricts direct access to some of an object's components. | `private` fields in a class with `public` methods to access them.                                 |\n",
    "| Abstraction    | Hiding complex reality while exposing only the necessary parts. It represents the essential features without including the background details. | Abstract classes and interfaces.                                                                  |\n",
    "| Inheritance    | Mechanism where one class acquires the properties and behaviors of another class. | `class ElectricCar extends Car { ... }`                                                           |\n",
    "| Polymorphism   | Ability of a variable, function or object to take on multiple forms. | Method overriding where a subclass provides a specific implementation of a method already provided by one of its superclasses. |\n",
    "\n",
    "Each of these pillars plays a crucial role in the design and implementation of object-oriented systems. They help manage complexity by allowing developers to think in terms of real-world objects, promote code reuse, and provide a clear modular structure for programs.\n"
   ],
   "metadata": {
    "collapsed": false
   },
   "id": "6de17e632281066b"
  },
  {
   "cell_type": "code",
   "execution_count": null,
   "outputs": [],
   "source": [
    "print(f\"Topics content: {response.body['response']['topics_content']['key4']}\")"
   ],
   "metadata": {
    "collapsed": false
   },
   "id": "370abd6902ab42af"
  },
  {
   "cell_type": "markdown",
   "source": [
    "Topics content: # Java Data Structures\n",
    "\n",
    "Java provides a rich set of data structures that allow developers to store and manipulate data efficiently. Understanding these data structures is crucial for writing effective Java programs. This guide will cover the basics of arrays, the Collections framework, and the use of generics for type safety.\n",
    "\n",
    "## Understand and use arrays in Java\n",
    "\n",
    "Arrays in Java are a fundamental data structure that allows you to store multiple values of the same type in a single variable. They are fixed in size, meaning that once you define the number of elements an array can hold, it cannot be changed.\n",
    "\n",
    "### Example of declaring and initializing an array:\n",
    "\n",
    "```java\n",
    "int[] numbers = new int[5]; // Declare an array of integers with a capacity of 5\n",
    "numbers[0] = 10; // Initialize the first element\n",
    "numbers[1] = 20; // Initialize the second element\n",
    "// ... and so on\n",
    "```\n",
    "\n",
    "### Accessing array elements:\n",
    "\n",
    "```java\n",
    "int firstNumber = numbers[0]; // Access the first element\n",
    "int secondNumber = numbers[1]; // Access the second element\n",
    "// ... and so on\n",
    "```\n",
    "\n",
    "### Iterating over an array:\n",
    "\n",
    "```java\n",
    "for (int i = 0; i < numbers.length; i++) {\n",
    "    System.out.println(numbers[i]); // Print each element of the array\n",
    "}\n",
    "```\n",
    "\n",
    "## Learn about the Collections framework\n",
    "\n",
    "The Collections framework in Java is a set of classes and interfaces that implement commonly reusable collection data structures. Unlike arrays, the Collections framework provides dynamic data structures that can grow and shrink in size.\n",
    "\n",
    "### Key interfaces in the Collections framework:\n",
    "\n",
    "- `Collection`: The root interface of the framework. It represents a group of objects known as its elements.\n",
    "- `List`: An ordered collection that can contain duplicate elements.\n",
    "- `Set`: A collection that cannot contain duplicate elements.\n",
    "- `Map`: An object that maps keys to values, with no duplicate keys allowed.\n",
    "\n",
    "## Explore List, Set, and Map interfaces and their implementations\n",
    "\n",
    "Each of these interfaces has multiple implementations that offer different performance characteristics.\n",
    "\n",
    "### List Implementations:\n",
    "\n",
    "- `ArrayList`: Resizable-array implementation of the `List` interface. Offers constant-time positional access but is slow in insertion and removal in the middle of the list.\n",
    "- `LinkedList`: Doubly-linked list implementation of the `List` interface. It offers better performance in insertion and removal at the cost of linear-time positional access.\n",
    "\n",
    "### Set Implementations:\n",
    "\n",
    "- `HashSet`: Implements the `Set` interface, backed by a hash table. It offers constant time performance for basic operations (add, remove, contains) assuming the hash function disperses elements properly.\n",
    "- `LinkedHashSet`: A `HashSet` with a linked list running through it, thus it orders its elements based on insertion order.\n",
    "- `TreeSet`: Implements the `Set` interface and uses a tree for storage. Objects are stored in a sorted, ascending order.\n",
    "\n",
    "### Map Implementations:\n",
    "\n",
    "- `HashMap`: Hash table based implementation of the `Map` interface. It allows null values and the null key.\n",
    "- `LinkedHashMap`: Hash table and linked list implementation of the `Map` interface, with predictable iteration order.\n",
    "- `TreeMap`: A Red-Black tree based implementation of the `Map` interface. The map is sorted according to the natural ordering of its keys.\n",
    "\n",
    "## Practice using common data structures like ArrayList, HashSet, and HashMap\n",
    "\n",
    "### Using ArrayList:\n",
    "\n",
    "```java\n",
    "List<String> names = new ArrayList<>();\n",
    "names.add(\"Alice\");\n",
    "names.add(\"Bob\");\n",
    "names.add(\"Charlie\");\n",
    "System.out.println(names.get(0)); // Prints \"Alice\"\n",
    "```\n",
    "\n",
    "### Using HashSet:\n",
    "\n",
    "```java\n",
    "Set<Integer> uniqueNumbers = new HashSet<>();\n",
    "uniqueNumbers.add(1);\n",
    "uniqueNumbers.add(2);\n",
    "uniqueNumbers.add(1); // Duplicate, will not be added\n",
    "System.out.println(uniqueNumbers.size()); // Prints \"2\"\n",
    "```\n",
    "\n",
    "### Using HashMap:\n",
    "\n",
    "```java\n",
    "Map<String, Integer> ageMap = new HashMap<>();\n",
    "ageMap.put(\"Alice\", 25);\n",
    "ageMap.put(\"Bob\", 30);\n",
    "ageMap.put(\"Charlie\", 20);\n",
    "System.out.println(ageMap.get(\"Alice\")); // Prints \"25\"\n",
    "```\n",
    "\n",
    "## Understand the importance of generics in type safety\n",
    "\n",
    "Generics enable types (classes and interfaces) to be parameters when defining classes, interfaces, and methods. This allows for stronger type checks at compile time and can eliminate the need for type casting.\n",
    "\n",
    "### Example of using generics:\n",
    "\n",
    "```java\n",
    "List<String> list = new ArrayList<>(); // A list that can only contain Strings\n",
    "list.add(\"Hello\");\n",
    "// list.add(123); // Compile-time error\n",
    "String item = list.get(0); // No need for type casting\n",
    "```\n",
    "\n",
    "Generics also enable you to implement generic algorithms that work on collections of different types, as long as they follow certain rules. This is a powerful feature that contributes to the robustness and reusability of code.\n",
    "\n",
    "## Comparison Tables\n",
    "\n",
    "### List Implementations:\n",
    "\n",
    "| Feature/Implementation | ArrayList | LinkedList |\n",
    "|------------------------|-----------|------------|\n",
    "| Positional Access      | Fast      | Slow       |\n",
    "| Insertion/Deletion     | Slow      | Fast       |\n",
    "| Memory Overhead        | Low       | High       |\n",
    "\n",
    "### Set Implementations:\n",
    "\n",
    "| Feature/Implementation | HashSet   | LinkedHashSet | TreeSet   |\n",
    "|------------------------|-----------|---------------|-----------|\n",
    "| Ordering               | No        | Insertion     | Sorted    |\n",
    "| Performance            | Fast      | Slightly slower | Logarithmic |\n",
    "| Null elements          | Allowed   | Allowed       | Not allowed (if natural ordering is used) |\n",
    "\n",
    "### Map Implementations:\n",
    "\n",
    "| Feature/Implementation | HashMap   | LinkedHashMap | TreeMap   |\n",
    "|------------------------|-----------|---------------|-----------|\n",
    "| Ordering               | No        | Insertion     | Sorted    |\n",
    "| Performance            | Fast      | Slightly slower | Logarithmic |\n",
    "| Null keys/values       | Allowed (one null key) | Allowed (one null key) | Not allowed (if natural ordering is used) |\n",
    "\n",
    "By understanding and using these data structures effectively, you can greatly enhance the performance and quality of your Java programs.\n"
   ],
   "metadata": {
    "collapsed": false
   },
   "id": "8d3fe22797d99530"
  },
  {
   "cell_type": "code",
   "execution_count": null,
   "outputs": [],
   "source": [],
   "metadata": {
    "collapsed": false
   },
   "id": "d945e18f9eff2c1c"
  }
 ],
 "metadata": {
  "kernelspec": {
   "display_name": "Python 3",
   "language": "python",
   "name": "python3"
  },
  "language_info": {
   "codemirror_mode": {
    "name": "ipython",
    "version": 2
   },
   "file_extension": ".py",
   "mimetype": "text/x-python",
   "name": "python",
   "nbconvert_exporter": "python",
   "pygments_lexer": "ipython2",
   "version": "2.7.6"
  }
 },
 "nbformat": 4,
 "nbformat_minor": 5
}
