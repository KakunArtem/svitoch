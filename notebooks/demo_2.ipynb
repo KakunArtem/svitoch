{
 "cells": [
  {
   "cell_type": "markdown",
   "source": [
    "### Release notes:\n",
    "1. Added multilanguage support\n",
    "2. Refactor response logic"
   ],
   "metadata": {
    "collapsed": false
   },
   "id": "fef8c8be9b3f3b4a"
  },
  {
   "cell_type": "code",
   "execution_count": null,
   "outputs": [],
   "source": [
    "import requests\n",
    "import json"
   ],
   "metadata": {
    "collapsed": false
   },
   "id": "76ee9c187e4959e"
  },
  {
   "cell_type": "code",
   "execution_count": null,
   "outputs": [],
   "source": [
    "url = \"http://localhost:8080/v1/courses/base_course\"\n",
    "\n",
    "payload = json.dumps({\n",
    "    \"text\": \"QA automation course about Python UI automation using Playwright framework.\",\n",
    "    \"language\": \"Ukrainian\"\n",
    "})\n",
    "headers = {\n",
    "    'Content-Type': 'application/json'\n",
    "}\n",
    "\n",
    "course_response = requests.request(\"POST\", url, headers=headers, data=payload)\n",
    "course_response.body = json.loads(course_response.text)"
   ],
   "metadata": {
    "collapsed": false
   },
   "id": "a04ab2d8f2b24639"
  },
  {
   "cell_type": "code",
   "execution_count": null,
   "outputs": [],
   "source": [
    "response = \"491e0266-04d7-4400-bdd2-c9d74d0faa9e\"\n",
    "\n",
    "url = f\"http://localhost:8080/v1/courses/{response}\"\n",
    "\n",
    "payload = {}\n",
    "headers = {}\n",
    "\n",
    "response = requests.request(\"GET\", url, headers=headers, data=payload)\n",
    "response.body = json.loads(response.text)"
   ],
   "metadata": {
    "collapsed": false
   },
   "id": "817ea92f811919b0"
  },
  {
   "cell_type": "code",
   "execution_count": null,
   "outputs": [],
   "source": [
    "print(f\"Topic: {response.body['query']}\")\n",
    "print(f\"LLM Version: {response.body['llm_version']}\")"
   ],
   "metadata": {
    "collapsed": false
   },
   "id": "4d501485d6fe98a"
  },
  {
   "cell_type": "code",
   "execution_count": null,
   "outputs": [],
   "source": [
    "print(\"=================================================================================================================================================\")\n",
    "print(f\"Course overview:\\n{response.body['course_content']['overview']}\")\n",
    "print(\"================================================================================================================================================= \\n\")"
   ],
   "metadata": {
    "collapsed": false
   },
   "id": "cb66e86bd58d50be"
  },
  {
   "cell_type": "code",
   "execution_count": null,
   "outputs": [],
   "source": [
    "print(f\"Course topics: {json.dumps(response.body['course_content']['topics'], indent=2, ensure_ascii=False)}\")"
   ],
   "metadata": {
    "collapsed": false
   },
   "id": "412f01ef57a4a5de"
  },
  {
   "cell_type": "code",
   "execution_count": null,
   "outputs": [],
   "source": [
    "print(f\"Topics content: {response.body['topics_content']['key4']}\")"
   ],
   "metadata": {
    "collapsed": false
   },
   "id": "5611a122a0ec579d"
  },
  {
   "cell_type": "markdown",
   "source": [
    "Topics content: # Основи UI автоматизації з Playwright\n",
    "\n",
    "Playwright – це фреймворк для автоматизації браузерів, який дозволяє тестувальникам створювати швидкі, надійні та стабільні тести для веб-інтерфейсів. Він підтримує багато мов програмування, включаючи Node.js, Python, .NET та Java. У цьому посібнику ми розглянемо основи використання Playwright для автоматизації UI тестів на прикладі Node.js.\n",
    "\n",
    "## Створення першого тесту з використанням Playwright\n",
    "\n",
    "### Встановлення Playwright\n",
    "\n",
    "Перш за все, вам потрібно встановити Playwright. Це можна зробити за допомогою npm (Node Package Manager):\n",
    "\n",
    "```bash\n",
    "npm i -D @playwright/test\n",
    "```\n",
    "\n",
    "### Ініціалізація проекту\n",
    "\n",
    "Після встановлення ви можете ініціалізувати проект:\n",
    "\n",
    "```bash\n",
    "npx playwright init\n",
    "```\n",
    "\n",
    "Ця команда створить необхідні конфігураційні файли для вашого проекту.\n",
    "\n",
    "### Створення тестового файлу\n",
    "\n",
    "Створіть файл `example.spec.js` у папці `tests` з наступним вмістом:\n",
    "\n",
    "```javascript\n",
    "const { test, expect } = require('@playwright/test');\n",
    "\n",
    "test('Перший тест з Playwright', async ({ page }) => {\n",
    "  await page.goto('https://example.com');\n",
    "  const title = await page.title();\n",
    "  expect(title).toBe('Example Domain');\n",
    "});\n",
    "```\n",
    "\n",
    "### Запуск тесту\n",
    "\n",
    "Запустіть тест за допомогою команди:\n",
    "\n",
    "```bash\n",
    "npx playwright test\n",
    "```\n",
    "\n",
    "## Взаємодія з елементами сторінки\n",
    "\n",
    "Playwright надає різні методи для взаємодії з елементами веб-сторінки. Ось деякі з них:\n",
    "\n",
    "- `click(selector)`: клік по елементу.\n",
    "- `fill(selector, value)`: заповнення текстового поля.\n",
    "- `selectOption(selector, value)`: вибір опції з випадаючого списку.\n",
    "- `check(selector)`: встановлення чекбокса в стан \"вибрано\".\n",
    "- `uncheck(selector)`: зняття вибору з чекбокса.\n",
    "\n",
    "### Приклад взаємодії з елементами\n",
    "\n",
    "```javascript\n",
    "test('Взаємодія з елементами', async ({ page }) => {\n",
    "  await page.goto('https://example.com/form');\n",
    "\n",
    "  // Клік по кнопці\n",
    "  await page.click('button#submit');\n",
    "\n",
    "  // Заповнення текстового поля\n",
    "  await page.fill('input#username', 'testuser');\n",
    "\n",
    "  // Вибір опції з випадаючого списку\n",
    "  await page.selectOption('select#country', 'UA');\n",
    "\n",
    "  // Встановлення чекбокса\n",
    "  await page.check('input#agree');\n",
    "\n",
    "  // Зняття вибору з чекбокса\n",
    "  await page.uncheck('input#subscribe');\n",
    "});\n",
    "```\n",
    "\n",
    "## Перевірка результатів тесту\n",
    "\n",
    "Для перевірки результатів використовуються асерції. Playwright інтегрується з бібліотеками для тестування, такими як Jest або Mocha, які надають функції `expect` для перевірки умов.\n",
    "\n",
    "### Приклади асерцій\n",
    "\n",
    "```javascript\n",
    "test('Перевірка результатів', async ({ page }) => {\n",
    "  await page.goto('https://example.com');\n",
    "\n",
    "  // Перевірка заголовку сторінки\n",
    "  await expect(page).toHaveTitle('Example Domain');\n",
    "\n",
    "  // Перевірка наявності тексту на сторінці\n",
    "  await expect(page).toHaveText('Welcome to example.com');\n",
    "\n",
    "  // Перевірка, що елемент видимий\n",
    "  await expect(page.locator('h1')).toBeVisible();\n",
    "\n",
    "  // Перевірка, що елемент має певний клас\n",
    "  await expect(page.locator('.some-class')).toHaveClass('active');\n",
    "});\n",
    "```\n",
    "\n",
    "### Таблиця порівняння методів взаємодії\n",
    "\n",
    "| Метод          | Опис                                           | Приклад використання                  |\n",
    "| -------------- | ---------------------------------------------- | ------------------------------------- |\n",
    "| `click`        | Клік по елементу                               | `await page.click('button#submit');`  |\n",
    "| `fill`         | Заповнення текстового поля                     | `await page.fill('input#username', 'testuser');` |\n",
    "| `selectOption` | Вибір опції з випадаючого списку               | `await page.selectOption('select#country', 'UA');` |\n",
    "| `check`        | Встановлення чекбокса в стан \"вибрано\"         | `await page.check('input#agree');`    |\n",
    "| `uncheck`      | Зняття вибору з чекбокса                       | `await page.uncheck('input#subscribe');` |\n",
    "\n",
    "### Таблиця порівняння методів асерцій\n",
    "\n",
    "| Метод          | Опис                                           | Приклад використання                  |\n",
    "| -------------- | ---------------------------------------------- | ------------------------------------- |\n",
    "| `toHaveTitle`  | Перевірка заголовку сторінки                   | `await expect(page).toHaveTitle('Example Domain');` |\n",
    "| `toHaveText`   | Перевірка наявності тексту на сторінці         | `await expect(page).toHaveText('Welcome to example.com');` |\n",
    "| `toBeVisible`  | Перевірка, що елемент видимий                  | `await expect(page.locator('h1')).toBeVisible();` |\n",
    "| `toHaveClass`  | Перевірка, що елемент має певний клас          | `await expect(page.locator('.some-class')).toHaveClass('active');` |\n",
    "\n",
    "За допомогою цих основних кроків ви можете почати створювати автоматизовані UI тести з Playwright. З практикою та дослідженням документації ви зможете розширити свої навички та створювати складніші тестові сценарії.\n"
   ],
   "metadata": {
    "collapsed": false
   },
   "id": "6de17e632281066b"
  },
  {
   "cell_type": "code",
   "execution_count": null,
   "outputs": [],
   "source": [
    "print(f\"Topics content: {response.body['topics_content']['key5']}\")"
   ],
   "metadata": {
    "collapsed": false
   },
   "id": "370abd6902ab42af"
  },
  {
   "cell_type": "markdown",
   "source": [
    "Topics content: # Розширення можливостей автоматизації\n",
    "\n",
    "Автоматизація процесів є ключовим елементом ефективності в сучасному програмуванні. Вона дозволяє зменшити кількість рутинної роботи, забезпечити стабільність та відтворюваність результатів. Розглянемо кілька способів, які допоможуть розширити можливості автоматизації.\n",
    "\n",
    "## Робота зі змінними середовища\n",
    "\n",
    "Змінні середовища (environment variables) використовуються для зберігання конфігураційних даних, які можуть змінюватися в залежності від середовища виконання програми. Це можуть бути шляхи до файлів, параметри підключення до баз даних, ключі API тощо.\n",
    "\n",
    "### Приклад коду в Python:\n",
    "\n",
    "```python\n",
    "import os\n",
    "\n",
    "# Отримання значення змінної середовища\n",
    "db_host = os.getenv('DB_HOST', 'localhost')\n",
    "db_user = os.getenv('DB_USER', 'user')\n",
    "db_password = os.getenv('DB_PASSWORD', 'password')\n",
    "\n",
    "print(f\"Підключення до бази даних на хості {db_host} з користувачем {db_user}\")\n",
    "```\n",
    "\n",
    "У цьому прикладі, якщо змінні середовища `DB_HOST`, `DB_USER`, `DB_PASSWORD` не встановлені, використовуються значення за замовчуванням.\n",
    "\n",
    "## Створення функцій та класів для повторного використання коду\n",
    "\n",
    "Функції та класи дозволяють структурувати код, роблячи його більш читабельним, легким для розуміння та повторного використання.\n",
    "\n",
    "### Приклад функції в Python:\n",
    "\n",
    "```python\n",
    "def greet(name):\n",
    "    return f\"Привіт, {name}!\"\n",
    "\n",
    "print(greet(\"Олексій\"))\n",
    "```\n",
    "\n",
    "### Приклад класу в Python:\n",
    "\n",
    "```python\n",
    "class Greeter:\n",
    "    def __init__(self, name):\n",
    "        self.name = name\n",
    "    \n",
    "    def greet(self):\n",
    "        return f\"Привіт, {self.name}!\"\n",
    "\n",
    "greeter = Greeter(\"Олексій\")\n",
    "print(greeter.greet())\n",
    "```\n",
    "\n",
    "Обидва приклади роблять одне й те саме, але клас `Greeter` може бути розширений додатковими методами та атрибутами для більш складної логіки.\n",
    "\n",
    "## Використання параметризації для запуску тестів з різними даними\n",
    "\n",
    "Параметризація тестів дозволяє запускати один і той же тестовий сценарій з різними вхідними даними, що збільшує покриття тестами та допомагає виявити потенційні помилки.\n",
    "\n",
    "### Приклад параметризації в pytest (Python):\n",
    "\n",
    "```python\n",
    "import pytest\n",
    "\n",
    "@pytest.mark.parametrize(\"input,expected\", [(\"Олексій\", \"Привіт, Олексій!\"), (\"Марія\", \"Привіт, Марія!\")])\n",
    "def test_greet(input, expected):\n",
    "    assert greet(input) == expected\n",
    "```\n",
    "\n",
    "У цьому прикладі тест `test_greet` буде виконаний двічі з різними параметрами, що дозволяє перевірити функцію `greet` з різними іменами.\n",
    "\n",
    "| Спосіб автоматизації | Переваги | Недоліки |\n",
    "|----------------------|-----------|-----------|\n",
    "| Змінні середовища | Гнучкість конфігурації, безпека (не потрібно зберігати чутливі дані в коді) | Може бути складно управляти великою кількістю змінних |\n",
    "| Функції та класи | Структурування коду, повторне використання, легкість тестування | Потребують додаткового часу на проектування та рефакторинг |\n",
    "| Параметризація тестів | Збільшення покриття тестами, виявлення помилок | Може ускладнити код тестів, збільшити час виконання тестів |\n",
    "\n",
    "Використання цих методів дозволяє підвищити ефективність автоматизації, зробити код більш гнучким та надійним.\n"
   ],
   "metadata": {
    "collapsed": false
   },
   "id": "8d3fe22797d99530"
  },
  {
   "cell_type": "code",
   "execution_count": null,
   "outputs": [],
   "source": [],
   "metadata": {
    "collapsed": false
   },
   "id": "d945e18f9eff2c1c"
  }
 ],
 "metadata": {
  "kernelspec": {
   "display_name": "Python 3",
   "language": "python",
   "name": "python3"
  },
  "language_info": {
   "codemirror_mode": {
    "name": "ipython",
    "version": 2
   },
   "file_extension": ".py",
   "mimetype": "text/x-python",
   "name": "python",
   "nbconvert_exporter": "python",
   "pygments_lexer": "ipython2",
   "version": "2.7.6"
  }
 },
 "nbformat": 4,
 "nbformat_minor": 5
}
